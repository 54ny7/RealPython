{
 "cells": [
  {
   "attachments": {},
   "cell_type": "markdown",
   "metadata": {},
   "source": [
    "# Context managerek \"with\" szerkezettel\n",
    "\n",
    "Eredeti cikk:  \n",
    "https://realpython.com/python-with-statement/\n"
   ]
  },
  {
   "attachments": {},
   "cell_type": "markdown",
   "metadata": {},
   "source": [
    "Erőforrás kezelés általában 3 lépésből áll:\n",
    "* megnyitás\n",
    "* kezelés/felhasználás\n",
    "* lebontás\n",
    "\n",
    "Ezt kétféle úton szokás megvalósítani:\n",
    "* **try ... finally** szerkezettel - szabadon és helyzetre szabottan használható\n",
    "* **with ...** szerkezettel - szabványosított felület sokféle erőforráshoz\n"
   ]
  },
  {
   "attachments": {},
   "cell_type": "markdown",
   "metadata": {},
   "source": [
    "## A try ... finally megoldás\n",
    "\n",
    "ezzel a szerkezettel biztosítjuk a fájl lezárását akkor is, ha az írás közben hiba történne"
   ]
  },
  {
   "cell_type": "code",
   "execution_count": 3,
   "metadata": {},
   "outputs": [],
   "source": [
    "# Biztonsagos faljnyitas\n",
    "file = open(\"hello.txt\", \"w\")\n",
    "\n",
    "try:\n",
    "    file.write(\"Hello, World!\")\n",
    "finally:\n",
    "    # Igy tuti lezarjuk a fajlt a vegen\n",
    "    file.close()"
   ]
  },
  {
   "attachments": {},
   "cell_type": "markdown",
   "metadata": {},
   "source": [
    "Az esetleges hibákat még egy **except:** résszel le is kezelhetjük"
   ]
  },
  {
   "cell_type": "code",
   "execution_count": 5,
   "metadata": {},
   "outputs": [],
   "source": [
    "# Biztonsagos faljnyitas\n",
    "file = open(\"hello.txt\", \"w\")\n",
    "\n",
    "try:\n",
    "    file.write(\"Hello, World!\")\n",
    "except Exception as e:\n",
    "    print(f\"A fáljírás közben {e}  hiba történt.\")\n",
    "finally:\n",
    "    # Igy tuti lezarjuk a fajlt a vegen\n",
    "    file.close()\n"
   ]
  },
  {
   "attachments": {},
   "cell_type": "markdown",
   "metadata": {},
   "source": [
    "## A with ... megoldás\n",
    "\n",
    "A **with** kifejezés egy context managert-t biztosít mindazon erőforások számára, amik megvalósítják a *context management protocol*-t. \n",
    "Ez főleg abból áll, hogy a használandó erőforrás a következő metódusokkal rendelkezik:\n",
    "* \\_\\_enter\\_\\_() - ez hívódik a megnyitáskor\n",
    "* \\_\\_exit\\_\\_() - ez hívódik automatikusan a lezáráskor, a **with** blokkból kilépéskor. \n",
    "\n",
    "A lényeg, hogy a kezelendő erőforrás - nagyon sok esetben ez fájl kiírás vagy olvasás - megnyitásáról és lezárásáról a context manager protocol gondoskodik. Így biztosan nem marad véletlenül se megnyitva semmi. \n",
    "\n",
    "A **with** használatával tehát biztonságosabban és tisztábban kezelhetjük az erőforrásainkat, automatán intézi a nyitást és zárást minden körülmények között, így segít elkerülni az erőforráspazarlást (leaking)\n",
    "\n"
   ]
  },
  {
   "cell_type": "code",
   "execution_count": null,
   "metadata": {},
   "outputs": [],
   "source": [
    "\n",
    "# ez csak minta, nem fut \n",
    "with valamilyen_kifejezés as cél_változó:\n",
    "    csinálunk_valamit(cél_változó)\n"
   ]
  },
  {
   "attachments": {},
   "cell_type": "markdown",
   "metadata": {},
   "source": [
    "A következő lépéseken megyünk végig:\n",
    "* \"valamilyen_kifejezés\" meghívása, ami visszaadja a context managert\n",
    "* A .\\_\\_enter\\_\\_() és .\\_\\_exit\\_\\_() metódusok elmentése későbbre\n",
    "* .\\_\\_enter\\_\\_() hívása, az eredmény a *cél_változó*ba kerül\n",
    "* kódblokk végrehajtása - ez jellemzően a *cél_változó* valamilyen manipulálását jelenti\n",
    "\n",
    "Összességében kevesebb - és jobban olvasható - kód az eredmény. Szinte balzsam a szemnek. \n"
   ]
  },
  {
   "cell_type": "code",
   "execution_count": 7,
   "metadata": {},
   "outputs": [],
   "source": [
    "\n",
    "# a hello.txt-s példa \"with\" használatával\n",
    "\n",
    "with open('hello.txt', 'w') as file:\n",
    "    file.write('Context managerrel irunk.') "
   ]
  },
  {
   "attachments": {},
   "cell_type": "markdown",
   "metadata": {},
   "source": [
    "\n",
    "Az *open* egy olyan objektumot ad vissza, aminek van \\_\\_enter\\_\\_() és \\_\\_exit\\_\\_() metódusa. (TextIOBase)\n",
    "\n",
    "---\n",
    "A Python 3.1 óta egyszerre több context managert is fel lehet építeni, mondjuk úgy, hogy egy fáljból olvasunk és egy másikba írunk\n",
    "\n"
   ]
  },
  {
   "cell_type": "code",
   "execution_count": null,
   "metadata": {},
   "outputs": [],
   "source": [
    "# például így egy bemeneti és egy kimeneti fájl használható egyszerre\n",
    "\n",
    "with open('input_file.txt','r') as infile, open('output_file.txt','w') as outfile:\n",
    "    # infile-ból olvasunk\n",
    "    # valamit teszünk vele\n",
    "    # outfile-ba írunk\n",
    "    pass\n",
    "\n",
    "\n",
    "# a végén mindkét file szépen lezáródik"
   ]
  },
  {
   "attachments": {},
   "cell_type": "markdown",
   "metadata": {},
   "source": [
    "Fájlok elegáns és Pythonos kezelésére jól használható a **pathlib** modulból a **Path** osztály. Ez egy OS fájl elérési utat reprezentál és a metódusain keresztül lehet fájlokat kezelni. \n",
    "\n",
    "Külön figyelmet érdemel az OS-független könyvtárkezelés ( \\/, \\\\, \\\\\\\\ és társai), valamint a / operátor, amivel az útvonal darabokat tudjuk összefűzni.(könyvtárba belépés)\n",
    "\n",
    "Az alábbi példában egy **try ... except** blokkba csomagoljuk a **with** kifejezést, mert így szép és felhasználóbarát üzenetet tudunk kitolni hiba esetén. "
   ]
  },
  {
   "cell_type": "code",
   "execution_count": 17,
   "metadata": {},
   "outputs": [],
   "source": [
    "import pathlib\n",
    "import logging\n",
    "\n",
    "# létrejön a Path objektum a fájlunkkal\n",
    "file_path = pathlib.Path(\"hello.txt\")\n",
    "\n",
    "file_path = pathlib.Path(\".\") / \"hello.txt\"\n",
    "\n",
    "try:\n",
    "    with file_path.open(mode=\"w\") as file:\n",
    "        file.write(\"Hello, World!\")\n",
    "except OSError as error:\n",
    "    logging.error(\"%s fájlba írás sikertelen. %s kivétel történt\", file_path, error)"
   ]
  },
  {
   "attachments": {},
   "cell_type": "markdown",
   "metadata": {},
   "source": [
    "## Könyvtárbejárás\n",
    "\n",
    "Az **os** modul **scandir()** függvénye egy iterátort ad, ami **os.DirEntry()** objektumokból áll. Kifejezetten a hatékony könyvtárbejárás kedvéért."
   ]
  },
  {
   "cell_type": "code",
   "execution_count": 16,
   "metadata": {},
   "outputs": [
    {
     "name": "stdout",
     "output_type": "stream",
     "text": [
      "0: context_managers.ipynb -> 8766 bytes\n",
      "1: hello.txt -> 13 bytes\n"
     ]
    }
   ],
   "source": [
    "import os\n",
    "\n",
    "with os.scandir('.') as entries:\n",
    "    for i, entry in enumerate(entries):\n",
    "        print(f\"{i}: {entry.name} -> {entry.stat().st_size} bytes\")"
   ]
  },
  {
   "attachments": {},
   "cell_type": "markdown",
   "metadata": {},
   "source": [
    "## Nagy pontosságú számítások\n",
    "\n",
    "Ahol a sima float számítási pontossága nem elég, ott segít a **decimal** modul **Decimal** osztálya. Az alábbi példában 42 tizedesig számolunk, amit a **localcontext()** managerben állítunk be. "
   ]
  },
  {
   "cell_type": "code",
   "execution_count": 21,
   "metadata": {},
   "outputs": [
    {
     "name": "stdout",
     "output_type": "stream",
     "text": [
      "0.0238095238095238095238095238095238095238095 ez van a localcontext-ben\n",
      "0.02380952380952380952380952381 ez van a localcontext nélkül\n"
     ]
    }
   ],
   "source": [
    "from decimal import Decimal, localcontext\n",
    "\n",
    "with localcontext() as ctx:\n",
    "    ctx.prec = 42 # itt állítjuk be a pontosságot\n",
    "    print(  Decimal('1') / Decimal('42') , \"ez van a localcontext-ben\")\n",
    "# itt lezáródik a licalcontext()\n",
    "\n",
    "print(  Decimal('1') / Decimal('42') , \"ez van a localcontext nélkül\")\n"
   ]
  },
  {
   "attachments": {},
   "cell_type": "markdown",
   "metadata": {},
   "source": [
    "## Lock kezelés többszálú programoknál\n",
    "\n",
    "A **with** arra is jó, hogy minden kikért lockot egészen biztosan elengedjünk ott, ahol már nincs rá szükség, anélkül, hogy erről külön gondoskodni kellene. A context manager protocol miatt pont a helyén meghívódik automatikusan a .acquire() és a .release() is. "
   ]
  },
  {
   "cell_type": "code",
   "execution_count": null,
   "metadata": {},
   "outputs": [],
   "source": [
    "import threading\n",
    "\n",
    "balance_lock = threading.Lock()\n",
    "\n",
    "# try ... finally esetén így néz ki\n",
    "balance_lock.acquire() #mondjuk mintha itt nem lenne kezelve az, hogy nem sikerül a lockot megszerezni...\n",
    "try:\n",
    "    # csináljuk amit a lock alatt kell\n",
    "    pass\n",
    "finally:\n",
    "    balance_lock.release()\n",
    "\n",
    "\n",
    "# with használata esetén\n",
    "with balance_lock:\n",
    "    # csináljuk amit lock alatt kell\n",
    "    pass"
   ]
  },
  {
   "attachments": {},
   "cell_type": "markdown",
   "metadata": {},
   "source": [
    "## Külső könyvtárak\n",
    "\n",
    "Egy csomó olyan könyvtári objektum is tud context manager lenni, ami nem része a standard python környezetnek. A **pytest** például ilyen"
   ]
  },
  {
   "cell_type": "code",
   "execution_count": 23,
   "metadata": {},
   "outputs": [
    {
     "ename": "ZeroDivisionError",
     "evalue": "division by zero",
     "output_type": "error",
     "traceback": [
      "\u001b[1;31m---------------------------------------------------------------------------\u001b[0m",
      "\u001b[1;31mZeroDivisionError\u001b[0m                         Traceback (most recent call last)",
      "Cell \u001b[1;32mIn[23], line 4\u001b[0m\n\u001b[0;32m      1\u001b[0m \u001b[39mimport\u001b[39;00m \u001b[39mpytest\u001b[39;00m\n\u001b[0;32m      3\u001b[0m \u001b[39m# ez így egy csúnya nullával osztás\u001b[39;00m\n\u001b[1;32m----> 4\u001b[0m \u001b[39m1\u001b[39;49m \u001b[39m/\u001b[39;49m \u001b[39m0\u001b[39;49m\n",
      "\u001b[1;31mZeroDivisionError\u001b[0m: division by zero"
     ]
    }
   ],
   "source": [
    "import pytest\n",
    "\n",
    "# ez így egy csúnya nullával osztás\n",
    "1 / 0"
   ]
  },
  {
   "cell_type": "code",
   "execution_count": 25,
   "metadata": {},
   "outputs": [],
   "source": [
    "import pytest\n",
    "\n",
    "# így szépen lekezelhető a hiba\n",
    "with pytest.raises(ZeroDivisionError):\n",
    "    1 / 0"
   ]
  },
  {
   "cell_type": "code",
   "execution_count": 26,
   "metadata": {},
   "outputs": [
    {
     "ename": "KeyError",
     "evalue": "'car'",
     "output_type": "error",
     "traceback": [
      "\u001b[1;31m---------------------------------------------------------------------------\u001b[0m",
      "\u001b[1;31mKeyError\u001b[0m                                  Traceback (most recent call last)",
      "Cell \u001b[1;32mIn[26], line 5\u001b[0m\n\u001b[0;32m      3\u001b[0m favorites \u001b[39m=\u001b[39m {\u001b[39m\"\u001b[39m\u001b[39mfruit\u001b[39m\u001b[39m\"\u001b[39m: \u001b[39m\"\u001b[39m\u001b[39mapple\u001b[39m\u001b[39m\"\u001b[39m, \u001b[39m\"\u001b[39m\u001b[39mpet\u001b[39m\u001b[39m\"\u001b[39m: \u001b[39m\"\u001b[39m\u001b[39mdog\u001b[39m\u001b[39m\"\u001b[39m}\n\u001b[0;32m      4\u001b[0m \u001b[39m# ez így KeyError lesz\u001b[39;00m\n\u001b[1;32m----> 5\u001b[0m favorites[\u001b[39m\"\u001b[39;49m\u001b[39mcar\u001b[39;49m\u001b[39m\"\u001b[39;49m]\n",
      "\u001b[1;31mKeyError\u001b[0m: 'car'"
     ]
    }
   ],
   "source": [
    "import pytest\n",
    "\n",
    "favorites = {\"fruit\": \"apple\", \"pet\": \"dog\"}\n",
    "# ez így KeyError lesz\n",
    "favorites[\"car\"]"
   ]
  },
  {
   "cell_type": "code",
   "execution_count": 29,
   "metadata": {},
   "outputs": [],
   "source": [
    "import pytest\n",
    "\n",
    "favorites = {\"fruit\": \"apple\", \"pet\": \"dog\"}\n",
    "\n",
    "# így szépen lekezelhető a KeyError\n",
    "with pytest.raises(KeyError):\n",
    "    favorites[\"car\"]"
   ]
  },
  {
   "attachments": {},
   "cell_type": "markdown",
   "metadata": {},
   "source": [
    "Ezek így csak akkor jók, ha hibára számítunk és tényleg lesz is hiba. Ha a fenti példában *nem* nullával osztunk, akkor hibát kapunk. Ezt lehet kikerülni azzal, hogy *target value*-t is megadunk, hogy abba rakja a **pytest.raises()** az esetleg keletkező excetion-t"
   ]
  },
  {
   "cell_type": "code",
   "execution_count": 35,
   "metadata": {},
   "outputs": [
    {
     "ename": "Failed",
     "evalue": "DID NOT RAISE <class 'ZeroDivisionError'>",
     "output_type": "error",
     "traceback": [
      "\u001b[1;31m---------------------------------------------------------------------------\u001b[0m",
      "\u001b[1;31mFailed\u001b[0m                                    Traceback (most recent call last)",
      "Cell \u001b[1;32mIn[35], line 5\u001b[0m\n\u001b[0;32m      1\u001b[0m \u001b[39mimport\u001b[39;00m \u001b[39mpytest\u001b[39;00m\n\u001b[0;32m      3\u001b[0m \u001b[39mwith\u001b[39;00m pytest\u001b[39m.\u001b[39mraises(\u001b[39mZeroDivisionError\u001b[39;00m) \u001b[39mas\u001b[39;00m exc:\n\u001b[0;32m      4\u001b[0m     \u001b[39m# 1 / 0  # ezzel a várt eredményt kapja a pytest\u001b[39;00m\n\u001b[1;32m----> 5\u001b[0m     \u001b[39m1\u001b[39m \u001b[39m/\u001b[39m \u001b[39m1\u001b[39m  \u001b[39m# ezzel meg nem\u001b[39;00m\n\u001b[0;32m      7\u001b[0m \u001b[39mprint\u001b[39m( exc\u001b[39m.\u001b[39mvalue )\n\u001b[0;32m      8\u001b[0m \u001b[39massert\u001b[39;00m \u001b[39mstr\u001b[39m(exc\u001b[39m.\u001b[39mvalue) \u001b[39m==\u001b[39m \u001b[39m\"\u001b[39m\u001b[39mdivision by zero\u001b[39m\u001b[39m\"\u001b[39m, \u001b[39m\"\u001b[39m\u001b[39mNullával kellene osztani.\u001b[39m\u001b[39m\"\u001b[39m\n",
      "    \u001b[1;31m[... skipping hidden 1 frame]\u001b[0m\n",
      "File \u001b[1;32md:\\WPy64-3980\\python-3.9.8.amd64\\lib\\site-packages\\_pytest\\outcomes.py:153\u001b[0m, in \u001b[0;36mfail\u001b[1;34m(msg, pytrace)\u001b[0m\n\u001b[0;32m    144\u001b[0m \u001b[39m\"\"\"Explicitly fail an executing test with the given message.\u001b[39;00m\n\u001b[0;32m    145\u001b[0m \n\u001b[0;32m    146\u001b[0m \u001b[39m:param str msg:\u001b[39;00m\n\u001b[1;32m   (...)\u001b[0m\n\u001b[0;32m    150\u001b[0m \u001b[39m    python traceback will be reported.\u001b[39;00m\n\u001b[0;32m    151\u001b[0m \u001b[39m\"\"\"\u001b[39;00m\n\u001b[0;32m    152\u001b[0m __tracebackhide__ \u001b[39m=\u001b[39m \u001b[39mTrue\u001b[39;00m\n\u001b[1;32m--> 153\u001b[0m \u001b[39mraise\u001b[39;00m Failed(msg\u001b[39m=\u001b[39mmsg, pytrace\u001b[39m=\u001b[39mpytrace)\n",
      "\u001b[1;31mFailed\u001b[0m: DID NOT RAISE <class 'ZeroDivisionError'>"
     ]
    }
   ],
   "source": [
    "import pytest\n",
    "\n",
    "with pytest.raises(ZeroDivisionError) as exc:\n",
    "    # 1 / 0  # ezzel a várt eredményt kapja a pytest\n",
    "    1 / 1  # ezzel meg nem\n",
    "\n",
    "print( exc.value )\n",
    "assert str(exc.value) == \"division by zero\", \"Nullával kellene osztani.\""
   ]
  },
  {
   "attachments": {},
   "cell_type": "markdown",
   "metadata": {},
   "source": [
    "## Az async with: működés aszinkron módban\n",
    "\n",
    "Sok IO művelet esetén a várakozás csökkentésére hasznos lehet a konkurrens mód használata, amikor az éppen várakozó (IOwait) kérés alatt másik kérés feldolgozására is lehetőség van.  Erre példa az melékelt weboldal ellenőrző kód (site_checker_v0.py)\n",
    "\n",
    "* 3. sor: importáljuk amit kell. Az aiohttp lehet, hogy telepítést is igényel.\n",
    "* 6. sor: a **check()** függvény, amit **async** kulcsszóval definiálunk\n",
    "* 7. sor: külső **async with**, amiben az **aiohttp.ClientSession()** jön létre.\n",
    "* 8. sor: belső **async with**, ami az előzőben létrejött session-ön hívja a **get()**-et a paraméterként megadott url-lel\n",
    "* 9. sor: kiírjuk a válaszban lévő státusz kódot\n",
    "* 10. sor: hívjuk az aszinkron várakozásra képes **.text()** metódust a válaszon (response) és a **html**-be kerül az eredmény\n",
    "* 11. sor: kiírjuk az url-t és a doctype-t\n",
    "* 13. sor: **async** kulcsszóval definiáljuk a **main()** függvényt (így ez is *coroutine* lesz)\n",
    "* 14. sor: hívjuk az **asyncio.gather()**-t, ami a felsorolt *várakozásra képes (awaitable)* objektumokat futtatja, konkurrensen. \n",
    "* 19. sor: az **asyncio.run()** segítségével indítunk egy eseményfeldolgozót (event loop)\n",
    "\n",
    "\n"
   ]
  },
  {
   "cell_type": "code",
   "execution_count": null,
   "metadata": {},
   "outputs": [],
   "source": [
    "# site_checker_v0.py - ezt a külön fájlból futtassad\n",
    "\n",
    "import aiohttp\n",
    "import asyncio\n",
    "\n",
    "async def check(url):\n",
    "    async with aiohttp.ClientSession() as session:\n",
    "        async with session.get(url) as response:\n",
    "            print(f\"{url}: status -> {response.status}\")\n",
    "            html = await response.text()\n",
    "            print(f\"{url}: type -> {html[:17].strip()}\")\n",
    "\n",
    "async def main():\n",
    "    await asyncio.gather(\n",
    "        check(\"https://realpython.org\"),\n",
    "        check(\"https://pycoders.com\"),\n",
    "    )\n",
    "\n",
    "asyncio.run(main())"
   ]
  },
  {
   "attachments": {},
   "cell_type": "markdown",
   "metadata": {},
   "source": [
    "## Házi gyártmányú context managerek\n",
    "\n",
    "Sok esetben lehet szükség context managerre ott, ahol amúgy gyárilag nincs. Ilyesmik pl:\n",
    "* nyit - zár\n",
    "* beállít - resetel\n",
    "* létrehoz - letöröl\n",
    "* elindít - leállít\n",
    "\n",
    "Ezek lehetnek **osztály alapúak**, ehhez meg kell valósítaniuk egy \\_\\_enter\\_\\_() és egy \\_\\_exit\\_\\_() metódust. A szükséges paraméterek a példában. \n",
    "\n",
    "Vagy lehetnek **függvény alapúak**, ehhez a **contextlib.contextmanager** dekorátort lehet használni, ha nem akarunk egy komplett osztályt létrehozni. A függvénynek viszont egy korrekt generátornak kell lennie. "
   ]
  },
  {
   "attachments": {},
   "cell_type": "markdown",
   "metadata": {},
   "source": [
    "## Class (osztály) alapú context managerek"
   ]
  },
  {
   "cell_type": "code",
   "execution_count": 59,
   "metadata": {},
   "outputs": [
    {
     "name": "stdout",
     "output_type": "stream",
     "text": [
      "Entering the context...\n",
      ">>> Hello, World! <<<\n",
      "Leaving the context...\n",
      "None\n",
      "None\n",
      "None\n",
      "És innen tovább normálisan...\n"
     ]
    }
   ],
   "source": [
    "# Példa class alapú context managerre \n",
    "\n",
    "class HelloContextManager:\n",
    "     def __enter__(self):\n",
    "         print(\"Entering the context...\")\n",
    "         return \"Hello, World!\"\n",
    "     def __exit__(self, exc_type, exc_value, exc_tb):\n",
    "         print(\"Leaving the context...\")\n",
    "         print(exc_type, exc_value, exc_tb, sep=\"\\n\")\n",
    "         \n",
    "         # ha exception kezelést akarsz, akkor azt tedd ide.\n",
    "         # Ha az __exit__() True értékkel tér vissza, akkor a program nem áll le\n",
    "\n",
    "\n",
    "with HelloContextManager() as hello:\n",
    "    print('>>>',hello,'<<<')\n",
    "    # print(hello[100])  # ha a hibára futást próbálnád, akkor élesítsd ezt a sort\n",
    "\n",
    "print('És innen tovább normálisan...')"
   ]
  },
  {
   "cell_type": "code",
   "execution_count": 73,
   "metadata": {},
   "outputs": [
    {
     "data": {
      "text/plain": [
       "1.0004085000109626"
      ]
     },
     "execution_count": 73,
     "metadata": {},
     "output_type": "execute_result"
    }
   ],
   "source": [
    "# időmérés context manager által\n",
    "\n",
    "from time import perf_counter, sleep\n",
    "\n",
    "class Timer:\n",
    "    def __enter__(self):\n",
    "        self.start = perf_counter()\n",
    "        self.end = 0.0\n",
    "        # az __enter__() metódus így egy lambda függvényt ad vissza,\n",
    "        # ez kerül majd a \"timer\" változóba a with blokkban\n",
    "        return lambda: self.end - self.start\n",
    "\n",
    "    def __exit__(self, *args):\n",
    "        self.end = perf_counter()\n",
    "\n",
    "with Timer() as timer:\n",
    "    # valami hosszút csinálunk\n",
    "    sleep(1)\n",
    "\n",
    "# itt meghívjuk az __enter__ által visszaadott lambdát, ami az időkülönbséget mondja meg.\n",
    "timer()"
   ]
  },
  {
   "attachments": {},
   "cell_type": "markdown",
   "metadata": {},
   "source": [
    "## Függvény alapú context managerek\n",
    "\n",
    "a **contextlib.contextmanager** dekorátort lehet használni, ha nem akarunk egy komplett osztályt létrehozni. A függvénynek viszont egy korrekt generátornak kell lennie. \n",
    "\n",
    "A függvényben legyen egy darab **yield**. Amielőtte van, az lesz az __enter__() rész, amit a yield visszaad, az megy a *with* ... *as* **változó**: szerkezet változójába. Ami a yield után van, az pedig az __exit__() rész. "
   ]
  },
  {
   "cell_type": "code",
   "execution_count": 75,
   "metadata": {},
   "outputs": [],
   "source": [
    "# file írás fügvény alapú context managerrel\n",
    "\n",
    "from contextlib import contextmanager\n",
    "\n",
    "@contextmanager\n",
    "def writable_file(file_path):\n",
    "    file = open(file_path, 'w')\n",
    "    try:              # csekkoljuk, hogy sikerült-e a file megnyitása\n",
    "        yield file    # ha igen, akkor a file objektumot visszaadjuk (__enter__ vége)\n",
    "    finally:\n",
    "        file.close()  # ha végeztünk, bezárjuk. (ez az __exit__ rész)\n",
    "\n",
    "\n",
    "with writable_file(\"hello_ctx_func.txt\") as file:\n",
    "    file.write(\"Sikerult beleirni.\")"
   ]
  },
  {
   "cell_type": "code",
   "execution_count": 76,
   "metadata": {},
   "outputs": [
    {
     "name": "stdout",
     "output_type": "stream",
     "text": [
      "Teszteléshez elfedett idő: 42\n",
      "Normál idő: 1678189469.6485324\n"
     ]
    }
   ],
   "source": [
    "# valós idő elfedése context managerrel (tesztelési célra pl)\n",
    "\n",
    "from contextlib import contextmanager\n",
    "from time import time\n",
    "\n",
    "@contextmanager\n",
    "def mock_time():\n",
    "    # __enter__ rész kezdete\n",
    "    global time         # jelezzük, hogy a time objektumot globálisan változtatjuk\n",
    "    saved_time = time   # elmentjük az eredeti függvény címét\n",
    "    time = lambda: 42   # time függvény felülírása egy lambdával\n",
    "    yield               # __enter__ rész vége\n",
    "\n",
    "    # __exit__ rész\n",
    "    time = saved_time   # a time függvény helyreállítása\n",
    "\n",
    "with mock_time():  # itt nincs \"as\", mert nincs mit manipulálni\n",
    "    print(f\"Teszteléshez elfedett idő: {time()}\")\n",
    "\n",
    "print(f\"Normál idő: {time()}\")\n",
    "\n"
   ]
  },
  {
   "attachments": {},
   "cell_type": "markdown",
   "metadata": {},
   "source": [
    "Kihagyott rész: saját async context manager készítése\n",
    "\n",
    "A site_checker példaprogramok *nálam* valamiért nem működnek jól."
   ]
  }
 ],
 "metadata": {
  "kernelspec": {
   "display_name": "Python 3",
   "language": "python",
   "name": "python3"
  },
  "language_info": {
   "codemirror_mode": {
    "name": "ipython",
    "version": 3
   },
   "file_extension": ".py",
   "mimetype": "text/x-python",
   "name": "python",
   "nbconvert_exporter": "python",
   "pygments_lexer": "ipython3",
   "version": "3.9.8"
  },
  "orig_nbformat": 4,
  "vscode": {
   "interpreter": {
    "hash": "6d7090a0eba9f58071158077b1b9ec0b4e92cc0aab46ed30065211387267cdcd"
   }
  }
 },
 "nbformat": 4,
 "nbformat_minor": 2
}
