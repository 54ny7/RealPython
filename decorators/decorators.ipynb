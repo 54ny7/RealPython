{
 "cells": [
  {
   "attachments": {},
   "cell_type": "markdown",
   "metadata": {},
   "source": [
    "# Bevezetés a dekorátorok használatába\n",
    "\n",
    "A Python függvények fontos tulajdonsága, hogy szerepelhetnek, mint függvény paraméter, lehetne visszatérési értékben (return) és váltózónak is átadhatóak értékként. Ezt használjuk ki a függvényeint \"becsomagolásakor\"\n",
    "\n",
    "Ezen felül a függvényeknek lehetnek alfüggvényei is, amik csak az adott függvény kontextusán belül léteznek. \n",
    "\n"
   ]
  },
  {
   "cell_type": "code",
   "execution_count": 20,
   "metadata": {},
   "outputs": [
    {
     "name": "stdout",
     "output_type": "stream",
     "text": [
      "Hello Árpád!\n",
      "Szép napot Árpád!\n",
      "Üdvözöllek, kedves Árpád!\n"
     ]
    }
   ],
   "source": [
    "# függvény változó értékeként\n",
    "\n",
    "def hello(name):\n",
    "    return(f\"Hello {name}!\")\n",
    "\n",
    "def szepnapot(name):\n",
    "    return(f\"Szép napot {name}!\")\n",
    "\n",
    "def udv(name):\n",
    "    return(f\"Üdvözöllek, kedves {name}!\")\n",
    "\n",
    "koszontes = hello          # a \"koszontes\" változó értékként kapja a \"hello\" függvényt\n",
    "print(koszontes('Árpád'))  # és innentől \"koszontes()\" formában hívható\n",
    "\n",
    "koszontes = szepnapot\n",
    "print(koszontes('Árpád'))\n",
    "\n",
    "koszontes = udv\n",
    "print(koszontes('Árpád'))\n",
    "\n"
   ]
  },
  {
   "cell_type": "code",
   "execution_count": 23,
   "metadata": {},
   "outputs": [
    {
     "name": "stdout",
     "output_type": "stream",
     "text": [
      "Én vagyok az első gyerek.\n",
      "Én vagyok a második gyerek.\n"
     ]
    }
   ],
   "source": [
    "# függvény visszatérési értékként\n",
    "\n",
    "def szulo(num):      # külső függvény definíció\n",
    "    def gyerek1():   # egyik belső függvény\n",
    "        return(\"Én vagyok az első gyerek.\")\n",
    "\n",
    "    def gyerek2():   # másik belső függvény\n",
    "        return(\"Én vagyok a második gyerek.\")\n",
    "\n",
    "    if num == 1:    \n",
    "        return gyerek1   # függvényt (referenciát) adunk vissza értékként\n",
    "\n",
    "    if num == 2:\n",
    "        return gyerek2   # függvényt (referenciát) adunk vissza értékként\n",
    "\n",
    "    return None\n",
    "\n",
    "elso = szulo(1)     # a \"szulo\" függvény hívása után a változóban egy függvény lesz\n",
    "masodik = szulo(2)\n",
    "\n",
    "print(elso())       # és azt a függvényt meg is lehet hívni\n",
    "print(masodik())"
   ]
  },
  {
   "attachments": {},
   "cell_type": "markdown",
   "metadata": {},
   "source": [
    "# És akkor most csomagoljunk\n",
    "\n",
    "Az előzőeket alkalmazva összeállítunk egy csomagoló (wrapper) függvényt, ami\n",
    "* valami feladatot elvégez a ténylegesen meghívandó függvény előtt\n",
    "* meghívja magát a függvényt\n",
    "* és valami feladatot elvégez utána is\n",
    "\n",
    "(később kevésbé lesz ködös, hogy mire jó ez)\n",
    "\n",
    "A ``fontos_fuggveny()``-t csomagoljuk be és csomagolással együtt adjuk értékül a ``dolgozz`` változónak.\n",
    "A ``dolgozz()`` meghívásakor lefut mindhárom feladatrész.\n",
    "\n",
    "Szóval lényegében **a dekorátor becsomagol egy függvényt úgy, hogy megváltoztatja a viselkedését**"
   ]
  },
  {
   "cell_type": "code",
   "execution_count": 24,
   "metadata": {},
   "outputs": [
    {
     "name": "stdout",
     "output_type": "stream",
     "text": [
      "Ez történik a tényleges függvényhívás előtt\n",
      "Most csinálom a fontos dolgokat\n",
      "Ez történik a tényleges függvényhívás után\n"
     ]
    }
   ],
   "source": [
    "\n",
    "def elso_dekoratorom(func):\n",
    "    def wrapper():\n",
    "        print(\"Ez történik a tényleges függvényhívás előtt\")\n",
    "        func()\n",
    "        print(\"Ez történik a tényleges függvényhívás után\")\n",
    "    return wrapper\n",
    "\n",
    "def fontos_fuggveny():\n",
    "    print(\"Most csinálom a fontos dolgokat\")\n",
    "\n",
    "dolgozz = elso_dekoratorom(fontos_fuggveny)\n",
    "\n",
    "dolgozz()"
   ]
  },
  {
   "attachments": {},
   "cell_type": "markdown",
   "metadata": {},
   "source": [
    "Még egy példa: időkorlát felállítása.\n",
    "\n",
    "A ``csak_nappal()`` függvény a ``wrapper()``-be csomagolja a ``kiabalj()``-t, ennek hatására csak 7 és 22 között fog kiabálni, egyébként nem. A lényeg az, hogy ehhez magát a lényegi funkcionalitást tartalmazó függvényt nem kell módosítani. "
   ]
  },
  {
   "cell_type": "code",
   "execution_count": 31,
   "metadata": {},
   "outputs": [],
   "source": [
    "\n",
    "from datetime import datetime\n",
    "\n",
    "def csak_nappal(func):\n",
    "    def wrapper():\n",
    "        if 7 <= datetime.now().hour <= 22:\n",
    "            func()\n",
    "        else:\n",
    "            pass # Pssszt, a szomszédok alszanak!\n",
    "    return wrapper\n",
    "\n",
    "\n",
    "\n",
    "def kiabalj():\n",
    "    print(\"Juhúúúúú!\")\n",
    "\n",
    "kiabalj = csak_nappal(kiabalj)\n",
    "\n",
    "kiabalj()\n"
   ]
  },
  {
   "attachments": {},
   "cell_type": "markdown",
   "metadata": {},
   "source": [
    "## A Pythonos szintaxis\n",
    "\n",
    "Az eddigiek jók voltak, de legyen akkor már szép is. Erre való a ``@`` operátor (pie operator). Lényegében ugyanazt csináljuk vele, mint a fenti példákban, csak tömörebben és olvashatóbban. \n",
    "\n",
    "A ``@`` úgy használódik, hogy a ``kiabalj = csak_nappal(kiabalj)`` helyett csak odaírjuk a függvénydefiníció elé a dekorátor nevét egy ``@`` jellel. Nézzük tehát a fenti példát még egyszer, csak most az új szintexissal.\n"
   ]
  },
  {
   "cell_type": "code",
   "execution_count": 3,
   "metadata": {},
   "outputs": [
    {
     "name": "stdout",
     "output_type": "stream",
     "text": [
      "Juhúúúúú!\n"
     ]
    }
   ],
   "source": [
    "from datetime import datetime\n",
    "\n",
    "def csak_nappal(func):\n",
    "    def wrapper():\n",
    "        if 7 <= datetime.now().hour <= 22:\n",
    "            func()\n",
    "        else:\n",
    "            pass # Pssszt, a szomszédok alszanak!\n",
    "    return wrapper\n",
    "\n",
    "\n",
    "@csak_nappal\n",
    "def kiabalj():\n",
    "    print(\"Juhúúúúú!\")\n",
    "\n",
    "kiabalj()"
   ]
  },
  {
   "attachments": {},
   "cell_type": "markdown",
   "metadata": {},
   "source": [
    "Ezen felül a dekorátorokat legikább modulokba kiszervezve szokás használni, szóval a dekorátor kód általában nem is jelenik meg a tényleges funkció kódja mellett.\n",
    "Így kényelmesen újrafelhasználhatóvá válnak a saját dekorátoraink."
   ]
  },
  {
   "attachments": {},
   "cell_type": "markdown",
   "metadata": {},
   "source": [
    "## Paraméterek átadása\n",
    "\n",
    "ha olyan függvényhez írnánk dekorátort, ami paramétert is kezel, akkor ezt figyelembe kell venni a ``wrapper()`` függvény összeállításánál. Erre jó a jó öreg *tuple unpacking* és *dict unpacking* a ``\\*args`` és ``\\*\\*kwargs`` használatával. "
   ]
  },
  {
   "cell_type": "code",
   "execution_count": 5,
   "metadata": {},
   "outputs": [
    {
     "ename": "TypeError",
     "evalue": "wrapper() takes 0 positional arguments but 1 was given",
     "output_type": "error",
     "traceback": [
      "\u001b[1;31m---------------------------------------------------------------------------\u001b[0m",
      "\u001b[1;31mTypeError\u001b[0m                                 Traceback (most recent call last)",
      "Cell \u001b[1;32mIn[5], line 15\u001b[0m\n\u001b[0;32m     10\u001b[0m \u001b[39m@csinald_ketszer\u001b[39m\n\u001b[0;32m     11\u001b[0m \u001b[39mdef\u001b[39;00m \u001b[39mhaliho\u001b[39m(nev):\n\u001b[0;32m     12\u001b[0m     \u001b[39mprint\u001b[39m(\u001b[39mf\u001b[39m\u001b[39m\"\u001b[39m\u001b[39mHalihó, \u001b[39m\u001b[39m{\u001b[39;00mnev\u001b[39m}\u001b[39;00m\u001b[39m!\u001b[39m\u001b[39m\"\u001b[39m)\n\u001b[1;32m---> 15\u001b[0m haliho(\u001b[39m'\u001b[39;49m\u001b[39mBarnabás\u001b[39;49m\u001b[39m'\u001b[39;49m)\n",
      "\u001b[1;31mTypeError\u001b[0m: wrapper() takes 0 positional arguments but 1 was given"
     ]
    }
   ],
   "source": [
    "# ha nem kezeljük az átadandó paramétereket, abból van:\n",
    "# több paramétert adunk át a wrapper-nek, mint kéne. \n",
    "# nulla darabot vár, de egyet adunk. \n",
    "\n",
    "def csinald_ketszer(func):\n",
    "    def wrapper():\n",
    "        func()\n",
    "        func()\n",
    "\n",
    "    return wrapper\n",
    "\n",
    "@csinald_ketszer\n",
    "def haliho(nev):\n",
    "    print(f\"Halihó, {nev}!\")\n",
    "\n",
    "\n",
    "haliho('Barnabás')\n"
   ]
  },
  {
   "attachments": {},
   "cell_type": "markdown",
   "metadata": {},
   "source": [
    "A ``*args, **kwargs`` úgy bontódik ki, hogy veszi a függvények átadott összes pozicionális és összes keyword paramétert és odaadja a függvénynek egy tuple és egy dict formájában. Ide most elég annyit tudni, hogy ez így anyit jelent, hogy **az összes mindenféle paraméter, amivel a függvényt meghívtad**. \n",
    "\n",
    "Ez persze eléggé pongyola fogalmazás. A további részletekért keress arra, hogy *tuple unpacking* meg *dict unpacking*"
   ]
  },
  {
   "cell_type": "code",
   "execution_count": 13,
   "metadata": {},
   "outputs": [
    {
     "name": "stdout",
     "output_type": "stream",
     "text": [
      "Halihó, Barnabás!\n",
      "Halihó, Barnabás!\n"
     ]
    }
   ],
   "source": [
    "# paraméter átadások lekezelve\n",
    "\n",
    "def csinald_ketszer(func):\n",
    "    def wrapper(*args, **kwargs):\n",
    "        func(*args, **kwargs)\n",
    "        func(*args, **kwargs)\n",
    "\n",
    "    return wrapper\n",
    "\n",
    "@csinald_ketszer\n",
    "def haliho(nev):\n",
    "    print(f\"Halihó, {nev}!\")\n",
    "\n",
    "\n",
    "haliho('Barnabás')"
   ]
  },
  {
   "attachments": {},
   "cell_type": "markdown",
   "metadata": {},
   "source": [
    "## Paraméter visszaadás a dekorált függvényekből\n",
    "\n",
    "Az eddigi próbálkozásainkban nem vártunk visszaadott értéket a dekorált függvényeinktől, csak \"csináltattunk\" vele dolgokat. Leginkább kiíratást. Ha a függvényünk ``return`` által visszaad valamit, amire szükségünk is van, akkor gondoskodni kell róla, hogy a csomagolt függény is vissza tudja adni ugyanazt. Az előző példában a ``wrapper`` függvény végén nincs return, csak szmán véget ér, ami miatt a visszatérési értéke mindig ``None`` lesz. Változtassunk ezen. "
   ]
  },
  {
   "cell_type": "code",
   "execution_count": 12,
   "metadata": {},
   "outputs": [
    {
     "name": "stdout",
     "output_type": "stream",
     "text": [
      "Most futok 'Barnabás' paraméterrel.\n",
      "Most futok 'Barnabás' paraméterrel.\n",
      "Halihó, Barnabás!\n"
     ]
    }
   ],
   "source": [
    "# paraméter átadások lekezelve\n",
    "# ÉS eredmény visszaadás is kezelve\n",
    "\n",
    "def csinald_ketszer(func):\n",
    "    def wrapper(*args, **kwargs):\n",
    "        func(*args, **kwargs)\n",
    "        return func(*args, **kwargs) # a második futás eredményét visszaadjuk return-nal\n",
    "                                     # ez most itt épp megfelel a célnak, de nem mindig\n",
    "                                     # ennyire egyszerű.\n",
    "    return wrapper\n",
    "\n",
    "@csinald_ketszer\n",
    "def haliho(nev):\n",
    "    print(f\"Most futok '{nev}' paraméterrel.\")\n",
    "    return f\"Halihó, {nev}!\"\n",
    "\n",
    "h = haliho('Barnabás') # így már lesz itt is visszatérési érték, ami a h-ba kerül\n",
    "print(h)"
   ]
  },
  {
   "attachments": {},
   "cell_type": "markdown",
   "metadata": {},
   "source": [
    "A Python objektumok mindenféle infót tudnak magukról futásidőben is. Például a saját nevüket meg címüket. Ezt éppen kissé megkeverjük a dekorátor használatával, ami amúgy logikus is. Az alábbi példában látható, hogy az imént definiált ``haliho`` függvény úgy tudja, hogy az ő neve valójában ``wrapper``, ami amúgy meg is felel a valóságnak. "
   ]
  },
  {
   "cell_type": "code",
   "execution_count": 17,
   "metadata": {},
   "outputs": [
    {
     "name": "stdout",
     "output_type": "stream",
     "text": [
      "Help on function wrapper in module __main__:\n",
      "\n",
      "wrapper(*args, **kwargs)\n",
      "\n"
     ]
    }
   ],
   "source": [
    "help(haliho)\n",
    "\n",
    "haliho.__doc__\n"
   ]
  },
  {
   "attachments": {},
   "cell_type": "markdown",
   "metadata": {},
   "source": [
    "Az életben általában mégis inkább azt szeretnénk, hogy a dekorált függvényeink is a saját nevükön hivatkozzanak magukra. Erre használható a ``@functools.wraps`` dekorátor, ami felülírja a dekorált függvény infóit az eredeti függvény adatai szerint. "
   ]
  },
  {
   "cell_type": "code",
   "execution_count": 18,
   "metadata": {},
   "outputs": [
    {
     "name": "stdout",
     "output_type": "stream",
     "text": [
      "Most futok 'Barnabás' paraméterrel.\n",
      "Most futok 'Barnabás' paraméterrel.\n",
      "Halihó, Barnabás!\n"
     ]
    }
   ],
   "source": [
    "# állítsuk helyre a dekorált függvény infóit - egy dekorátorral\n",
    "import functools\n",
    "\n",
    "\n",
    "def csinald_ketszer(func):\n",
    "    @functools.wraps(func)\n",
    "    def wrapper(*args, **kwargs):\n",
    "        func(*args, **kwargs)\n",
    "        return func(*args, **kwargs) # a második futás eredményét visszaadjuk return-nal\n",
    "                                     # ez most itt épp megfelel a célnak, de nem mindig\n",
    "                                     # ennyire egyszerű.\n",
    "    return wrapper\n",
    "\n",
    "@csinald_ketszer\n",
    "def haliho(nev):\n",
    "    print(f\"Most futok '{nev}' paraméterrel.\")\n",
    "    return f\"Halihó, {nev}!\"\n",
    "\n",
    "h = haliho('Barnabás') # így már lesz itt is visszatérési érték, ami a h-ba kerül\n",
    "print(h)"
   ]
  },
  {
   "cell_type": "code",
   "execution_count": 19,
   "metadata": {},
   "outputs": [
    {
     "name": "stdout",
     "output_type": "stream",
     "text": [
      "Help on function haliho in module __main__:\n",
      "\n",
      "haliho(nev)\n",
      "\n"
     ]
    }
   ],
   "source": [
    "# Most már a \"haliho\" függvény úgy tudja magáról, hogy ő a \"haliho\"\n",
    "help(haliho)\n",
    "\n",
    "haliho.__doc__"
   ]
  },
  {
   "attachments": {},
   "cell_type": "markdown",
   "metadata": {},
   "source": [
    "## Két példakód\n"
   ]
  },
  {
   "attachments": {},
   "cell_type": "markdown",
   "metadata": {},
   "source": [
    "Függvény futásidejének mérése: az ``ido_elpocsekolasa`` függvényünket dekoráljuk a ``timer`` dekorátorunkkal úgy, hogy a dekorátort is dekoráljuk a ``functools.wraps`` dekorátorral. \n",
    "\n",
    "1. Start időt rögzítjük változóban\n",
    "2. Lefuttatjuk az eredeti függvényt, a kiemetét rögzítjük a ``value`` változóba mentjük\n",
    "3. Stop időt rögzítjük változóban\n",
    "4. Futásidőt kiszámítjuk az elmentett idők különbségéből\n",
    "5. A ``wrapper``-ből kilépve visszaadjuk az eredeti függvény elmentett kimenetét\n"
   ]
  },
  {
   "cell_type": "code",
   "execution_count": 8,
   "metadata": {},
   "outputs": [
    {
     "name": "stdout",
     "output_type": "stream",
     "text": [
      "'ido_elpocsekolasa' függvény futási ideje 1.0363s volt\n"
     ]
    }
   ],
   "source": [
    "import functools\n",
    "import time\n",
    "\n",
    "def timer(func):\n",
    "    \"\"\"Megmérjük a dekorált függvény futásidejét\"\"\"\n",
    "    @functools.wraps(func)\n",
    "    def wrapper_timer(*args, **kwargs):\n",
    "        start_time = time.perf_counter()    # 1.\n",
    "        value = func(*args, **kwargs)       # 2.\n",
    "        end_time = time.perf_counter()      # 3.\n",
    "        run_time = end_time - start_time    # 4.\n",
    "        print(f\"{func.__name__!r} függvény futási ideje {run_time:.4f}s volt\")\n",
    "        return value                        # 5. \n",
    "    return wrapper_timer\n",
    "\n",
    "@timer\n",
    "def ido_elpocsekolasa(ennyiszer):\n",
    "    for _ in range(ennyiszer):\n",
    "        sum([i**2 for i in range(10000)])\n",
    "\n",
    "\n",
    "ido_elpocsekolasa(354)"
   ]
  },
  {
   "attachments": {},
   "cell_type": "markdown",
   "metadata": {},
   "source": [
    "Debug  információk kiírása\n",
    "\n",
    "1. listába gyűjtjük az eredeti paramétereket a ``repr()`` által stringgé alakítva\n",
    "2. listába gyűjtjük a keyword paramétereket *kulcs = érték* formában. A ``!r`` a ``repr()`` helyett szerepel a string összeállításnál.\n",
    "3. összesítjük a fenti két listát\n",
    "4. kiírjuk, hogy pontosan hogyan fogjuk meghívni a függvényünket\n",
    "5. lefuttatjuk az eredeti függvényt és a kimenetét elmentjük a ``value`` változóba\n",
    "6. kiírjuk a kiemeti értéket, szépen formázva, megint a ``!r`` segítségével\n",
    "7. visszaadjuk az eredeti függvény elmentett kimenetét a hívónak\n",
    "\n",
    "\n"
   ]
  },
  {
   "cell_type": "code",
   "execution_count": 7,
   "metadata": {},
   "outputs": [
    {
     "name": "stdout",
     "output_type": "stream",
     "text": [
      "udvozlo_szoveg hívása ezekkel a paraméterekkel: ('Jocó', kor=13)\n",
      "'udvozlo_szoveg'  'Tyűha, Jocó! Már 13 vagy? Jól megnőttél!' értékkel tért vissza\n",
      "Tyűha, Jocó! Már 13 vagy? Jól megnőttél!\n"
     ]
    }
   ],
   "source": [
    "import functools\n",
    "\n",
    "def debug(func):\n",
    "    \"\"\"Print the function signature and return value\"\"\"\n",
    "    @functools.wraps(func)\n",
    "    def wrapper_debug(*args, **kwargs):\n",
    "        args_repr = [repr(a) for a in args]                      # 1\n",
    "        kwargs_repr = [f\"{k}={v!r}\" for k, v in kwargs.items()]  # 2\n",
    "        signature = \", \".join(args_repr + kwargs_repr)           # 3\n",
    "        print(f\"{func.__name__} hívása ezekkel a paraméterekkel: ({signature})\")           # 4\n",
    "        value = func(*args, **kwargs)                            # 5\n",
    "        print(f\"{func.__name__!r}  {value!r} értékkel tért vissza\")           # 6\n",
    "        return value                                             # 7\n",
    "    return wrapper_debug\n",
    "\n",
    "@debug\n",
    "def udvozlo_szoveg(nev, kor=None):\n",
    "    if kor is None:\n",
    "        return f\"Hali {nev}!\"\n",
    "    else:\n",
    "        return f\"Tyűha, {nev}! Már {kor} vagy? Jól megnőttél!\"\n",
    "    \n",
    "\n",
    "udv = udvozlo_szoveg('Jocó', kor=13)\n",
    "print(udv)\n",
    "\n"
   ]
  },
  {
   "attachments": {},
   "cell_type": "markdown",
   "metadata": {},
   "source": [
    "Ezeket a dekorátorokat a beépített fügvényekre is használhatjuk. Mivel a függvény definíciója nem itt van, a ``@`` operátor helyett vissza kell térni a legelején használt megoldásra"
   ]
  },
  {
   "cell_type": "code",
   "execution_count": 3,
   "metadata": {},
   "outputs": [
    {
     "name": "stdout",
     "output_type": "stream",
     "text": [
      "factorial hívása ezekkel a paraméterekkel: (0)\n",
      "'factorial'  1 értékkel tért vissza\n",
      "factorial hívása ezekkel a paraméterekkel: (1)\n",
      "'factorial'  1 értékkel tért vissza\n",
      "factorial hívása ezekkel a paraméterekkel: (2)\n",
      "'factorial'  2 értékkel tért vissza\n",
      "factorial hívása ezekkel a paraméterekkel: (3)\n",
      "'factorial'  6 értékkel tért vissza\n",
      "factorial hívása ezekkel a paraméterekkel: (4)\n",
      "'factorial'  24 értékkel tért vissza\n",
      "factorial hívása ezekkel a paraméterekkel: (5)\n",
      "'factorial'  120 értékkel tért vissza\n",
      "factorial hívása ezekkel a paraméterekkel: (6)\n",
      "'factorial'  720 értékkel tért vissza\n",
      "factorial hívása ezekkel a paraméterekkel: (7)\n",
      "'factorial'  5040 értékkel tért vissza\n",
      "factorial hívása ezekkel a paraméterekkel: (8)\n",
      "'factorial'  40320 értékkel tért vissza\n",
      "factorial hívása ezekkel a paraméterekkel: (9)\n",
      "'factorial'  362880 értékkel tért vissza\n",
      "factorial hívása ezekkel a paraméterekkel: (10)\n",
      "'factorial'  3628800 értékkel tért vissza\n",
      "factorial hívása ezekkel a paraméterekkel: (11)\n",
      "'factorial'  39916800 értékkel tért vissza\n",
      "factorial hívása ezekkel a paraméterekkel: (12)\n",
      "'factorial'  479001600 értékkel tért vissza\n",
      "factorial hívása ezekkel a paraméterekkel: (13)\n",
      "'factorial'  6227020800 értékkel tért vissza\n"
     ]
    },
    {
     "data": {
      "text/plain": [
       "2.7182818284467594"
      ]
     },
     "execution_count": 3,
     "metadata": {},
     "output_type": "execute_result"
    }
   ],
   "source": [
    "import math\n",
    "\n",
    "# itt dekoráljuk a math.factorial-a a saját debug dekorátorunkkal\n",
    "math.factorial = debug(math.factorial)\n",
    "\n",
    "# ebben a függvénybe felhasználjuk a dekorált factorial-t\n",
    "def e_kozelito_erteke(menetek=18):\n",
    "    return sum(1 / math.factorial(n) for n in range(menetek))\n",
    "\n",
    "e_kozelito_erteke(menetek = 14)\n"
   ]
  },
  {
   "attachments": {},
   "cell_type": "markdown",
   "metadata": {},
   "source": [
    "Egy dekorátorral nem is muszáj feltétlenül csomagolni egy függvényt. Lehet, hogy arra van csak szükség, hogy regisztráljuk, mint pl az alábbi egyszerű plugin rendszerben. \n",
    "\n",
    "Függvényeket regisztrálunk egy listába, amiből aztán véletlenszerűen választunk egyet."
   ]
  },
  {
   "cell_type": "code",
   "execution_count": 5,
   "metadata": {},
   "outputs": [
    {
     "name": "stdout",
     "output_type": "stream",
     "text": [
      "Köszontés a 'hello_mondo' használatával:\n",
      "Helló János!\n",
      "Köszontés a 'jonapot_mondo' használatával:\n",
      "Jó napot kívánok, Pál!\n",
      "Köszontés a 'jonapot_mondo' használatával:\n",
      "Jó napot kívánok, Imre!\n"
     ]
    }
   ],
   "source": [
    "import random\n",
    "\n",
    "PLUGINS = dict()\n",
    "\n",
    "def register(func):\n",
    "    \"\"\"Függvény regisztrálása a plugin tárba\"\"\"\n",
    "    PLUGINS[func.__name__] = func\n",
    "    return func\n",
    "\n",
    "@register\n",
    "def hello_mondo(nev):\n",
    "    return f\"Helló {nev}!\"\n",
    "\n",
    "@register\n",
    "def jonapot_mondo(nev):\n",
    "    return f\"Jó napot kívánok, {nev}!\"\n",
    "\n",
    "@register\n",
    "def szevasz_mondo(nev):\n",
    "    return f\"Szevasz, {nev}, mizu?\"\n",
    "\n",
    "\n",
    "def veletlen_koszones(nev):\n",
    "    udvozlo, udvozlo_fuggveny = random.choice(list(PLUGINS.items()))\n",
    "    print(f\"Köszontés a {udvozlo!r} használatával:\")\n",
    "    return udvozlo_fuggveny(nev)\n",
    "\n",
    "print(veletlen_koszones('János'))\n",
    "print(veletlen_koszones('Pál'))\n",
    "print(veletlen_koszones('Imre'))\n",
    "\n"
   ]
  },
  {
   "attachments": {},
   "cell_type": "markdown",
   "metadata": {},
   "source": [
    "## Dekorátor extra - különkiadás\n",
    "\n",
    "Dekorátorokat mindenféle kreatív kombinációban lehet alkalmazni az eddigieken túl is. Íme pár lehetőség:"
   ]
  },
  {
   "attachments": {},
   "cell_type": "markdown",
   "metadata": {},
   "source": [
    "Használhatunk dekorátort osztályok metódusaira. Erre van is a gyári készletben egy nagyon hasznos: ``property``, aminek a segítségével függvény által előállított értéket jeleníthetünk meg úgy, mintha osztályváltozó lenne, ezáltal pedig lehetnek csak olvasható, csak írható, vagy épp értékvalidált osztályváltozóink. Erről lesz külön írás. "
   ]
  },
  {
   "cell_type": "code",
   "execution_count": 11,
   "metadata": {},
   "outputs": [
    {
     "name": "stdout",
     "output_type": "stream",
     "text": [
      "__init__ hívása ezekkel a paraméterekkel: (<__main__.IdoElnyelo object at 0x0000022D44055340>, 16)\n",
      "'__init__'  None értékkel tért vissza\n",
      "'ido_elnyelo' függvény futási ideje 0.0013s volt\n"
     ]
    }
   ],
   "source": [
    "# ha külön modulba raktuk volna őket, akkor egy import kellene,\n",
    "# de most itt vannak fentebb definiálva\n",
    "\n",
    "# from decorators import debug, timer\n",
    "\n",
    "class IdoElnyelo:\n",
    "    @debug\n",
    "    def __init__(self, max_num):\n",
    "        self.max_num = max_num\n",
    "\n",
    "    @timer\n",
    "    def ido_elnyelo(self, num_times):\n",
    "        for _ in range(num_times):\n",
    "            sum([i**2 for i in range(self.max_num)])\n",
    "\n",
    "i = IdoElnyelo(16)\n",
    "\n",
    "i.ido_elnyelo(327)"
   ]
  },
  {
   "attachments": {},
   "cell_type": "markdown",
   "metadata": {},
   "source": [
    "Kis kitekintésképpen: a fenti metódusban látható ``_`` a for ciklus változójának a helyén egy érdekes állat. Alapból a ``_`` felveszi az utolsó művelet értékét, de amúgy sima változóként üzeel. Olyan helyen szokás használni, ahogy maga a válzotó érdektelen, nem akarjuk az értékét felhasználni, de mégis valaminek muszáj ott lenni. Mint itt a for ciklusnál. \n",
    "\n",
    "Szokás még olyan helyen használni aláhúzást, ahol Python kulcsszót szeretnénk használni változónévnek. Csak biggyesszük mögé és jó lesz. \n",
    "Olyat nem mondhatunk, hogy ``class = 16``, vagy ``def = \"az ami az \"``. Úgy viszont lehet, hogy ``class_ = 16``, vagy ``def_ = \"az ami az \"``.\n",
    "\n"
   ]
  },
  {
   "attachments": {},
   "cell_type": "markdown",
   "metadata": {},
   "source": [
    "## Dekorátor alkalmazható teljes osztályra is,\n",
    " ilyenre is van gyári példa, a ``@singleton``, ami azt biztosítja, hogy egy osztályból egyetlenegy példány létezhessen egyszerre. Az osztálydekorátornál fontos, hogy ez a metódusokat nem dekorálja. Itt is érvényes, hogy a ``@decorator`` valójában csak egy rövidítés arra, hogy ``Osztaly = dekorator(Osztaly)``."
   ]
  },
  {
   "attachments": {},
   "cell_type": "markdown",
   "metadata": {},
   "source": [
    "Dekorátorokat egymásba is lehet ágyazni úgy, hogy simán egymás alá felsoroljuk őket:"
   ]
  },
  {
   "cell_type": "code",
   "execution_count": 14,
   "metadata": {},
   "outputs": [
    {
     "name": "stdout",
     "output_type": "stream",
     "text": [
      "hello hívása ezekkel a paraméterekkel: ('Aladár')\n",
      "Helló, kedves Aladár!\n",
      "'hello'  None értékkel tért vissza\n",
      "hello hívása ezekkel a paraméterekkel: ('Aladár')\n",
      "Helló, kedves Aladár!\n",
      "'hello'  None értékkel tért vissza\n"
     ]
    }
   ],
   "source": [
    "@csinald_ketszer\n",
    "@debug\n",
    "def hello(nev):\n",
    "    print(f\"Helló, kedves {nev}!\")\n",
    "\n",
    "hello('Aladár')"
   ]
  },
  {
   "attachments": {},
   "cell_type": "markdown",
   "metadata": {},
   "source": [
    "Nyilván a dekorátorok - mivel függvények - ugyanúgy kaphatnak paramétereket, mint bárki más. De még inkább, függvények visszatérési értéke lehet függvény."
   ]
  },
  {
   "cell_type": "code",
   "execution_count": 17,
   "metadata": {},
   "outputs": [
    {
     "name": "stdout",
     "output_type": "stream",
     "text": [
      "Helló, kedves Aladár!\n",
      "Helló, kedves Aladár!\n",
      "Helló, kedves Aladár!\n",
      "Helló, kedves Aladár!\n"
     ]
    }
   ],
   "source": [
    "import functools\n",
    "\n",
    "def csinald_sokszor(ennyiszer):\n",
    "    def ismetlo_dekorator(func):\n",
    "        @functools.wraps(func)\n",
    "        def wrapper_ismetlo(*args, **kwargs):\n",
    "            for _ in range(ennyiszer):\n",
    "                value = func(*args, **kwargs)\n",
    "            return value\n",
    "        return wrapper_ismetlo\n",
    "    return ismetlo_dekorator\n",
    "\n",
    "# dekoráljuk most ezzel az előző függvényünket\n",
    "@csinald_sokszor(ennyiszer=4)\n",
    "def hello(nev):\n",
    "    print(f\"Helló, kedves {nev}!\")\n",
    "\n",
    "hello('Aladár')\n"
   ]
  },
  {
   "attachments": {},
   "cell_type": "markdown",
   "metadata": {},
   "source": [
    "Állapottartó logikát is megvalósíthatunk dekorátorral. Az alábbi példa a dekorált függvényünk meghívásait tartja számon.\n",
    "\n",
    "Itt az állapot megtartását - a hívások számát - a csomagoló függvény .num_calls attribútumában tároljuk. Ha jól értem, a függvény maga, mint objektum, kap egy attribútumot, amit aztán megőriz. (PEP 232 - Function attributes - ennek még majd utána kell járni)\n"
   ]
  },
  {
   "cell_type": "code",
   "execution_count": 19,
   "metadata": {},
   "outputs": [
    {
     "name": "stdout",
     "output_type": "stream",
     "text": [
      "Eddig 1 alkalommal hívtuk meg a 'mondd_hello' függvényt\n",
      "Helló!\n",
      "Eddig 2 alkalommal hívtuk meg a 'mondd_hello' függvényt\n",
      "Helló!\n",
      "Eddig 3 alkalommal hívtuk meg a 'mondd_hello' függvényt\n",
      "Helló!\n"
     ]
    }
   ],
   "source": [
    "import functools\n",
    "\n",
    "def count_calls(func):\n",
    "    @functools.wraps(func)\n",
    "    def wrapper_count_calls(*args, **kwargs):\n",
    "        wrapper_count_calls.num_calls += 1\n",
    "        print(f\"Eddig {wrapper_count_calls.num_calls} alkalommal hívtuk meg a {func.__name__!r} függvényt\")\n",
    "        return func(*args, **kwargs)\n",
    "    wrapper_count_calls.num_calls = 0\n",
    "    return wrapper_count_calls\n",
    "\n",
    "@count_calls\n",
    "def mondd_hello():\n",
    "    print(\"Helló!\")\n",
    "\n",
    "mondd_hello()\n",
    "\n",
    "mondd_hello()\n",
    "\n",
    "mondd_hello()\n",
    "\n"
   ]
  },
  {
   "attachments": {},
   "cell_type": "markdown",
   "metadata": {},
   "source": [
    "Osztályokat is használhatunk dekorátorként. Ilyenkor a dekoráló függvény szerepét az osztály ``.__call__()`` metódusa veszi fel. (Egy osztály akkor hívható, ha van neki ``.__call__()`` metódusa). Ennek segítségével az adott osztályból létrejött példány is hívható, mint egy függvény. Valójában egy dekorátor osztály létrehozásához ennyi a minimum. "
   ]
  },
  {
   "cell_type": "code",
   "execution_count": 18,
   "metadata": {},
   "outputs": [
    {
     "name": "stdout",
     "output_type": "stream",
     "text": [
      "A számláló 1 értéken áll.\n",
      "A számláló 2 értéken áll.\n",
      "A számláló 3 értéken áll.\n"
     ]
    }
   ],
   "source": [
    "\n",
    "class Szamlalo:\n",
    "    def __init__(self, start=0):\n",
    "        self.count = start\n",
    "\n",
    "    def __call__(self):  # attól válok az osztály hívhatóvá, hogy van neki ilyenje. \n",
    "        self.count +=1\n",
    "        print(f\"A számláló {self.count} értéken áll.\")\n",
    "\n",
    "szamlalo = Szamlalo() # itt példányosítjuk az osztályt\n",
    "\n",
    "# és aztán hívogatjuk párszor\n",
    "szamlalo()\n",
    "szamlalo()\n",
    "szamlalo()"
   ]
  },
  {
   "attachments": {},
   "cell_type": "markdown",
   "metadata": {},
   "source": [
    "És akkor ebből így lesz dekorátor"
   ]
  },
  {
   "cell_type": "code",
   "execution_count": 22,
   "metadata": {},
   "outputs": [
    {
     "name": "stdout",
     "output_type": "stream",
     "text": [
      "'mondd_hello' függvényt 1 alkalommal hívtad.\n",
      "Helló!\n",
      "'mondd_hello' függvényt 2 alkalommal hívtad.\n",
      "Helló!\n",
      "'mondd_hello' függvényt 3 alkalommal hívtad.\n",
      "Helló!\n"
     ]
    }
   ],
   "source": [
    "import functools\n",
    "\n",
    "class HivasSzamlalo:\n",
    "    def __init__(self, func):\n",
    "        functools.update_wrapper(self, func)\n",
    "        self.func = func\n",
    "        self.hivasok_szama = 0\n",
    "\n",
    "    def __call__(self, *args, **kwargs):\n",
    "        self.hivasok_szama +=1\n",
    "        print(f\"{self.func.__name__!r} függvényt {self.hivasok_szama} alkalommal hívtad.\")\n",
    "        return self.func(*args, **kwargs)\n",
    "\n",
    "\n",
    "@HivasSzamlalo\n",
    "def mondd_hello():\n",
    "    print(\"Helló!\")\n",
    "\n",
    "mondd_hello()\n",
    "\n",
    "mondd_hello()\n",
    "\n",
    "mondd_hello()\n"
   ]
  },
  {
   "attachments": {},
   "cell_type": "markdown",
   "metadata": {},
   "source": [
    "## Singleton osztály\n",
    "\n",
    "Singleton osztályhoz - ahogy egy osztályból egyszerre csak egyetlen példány létezhet - a következőképp állíthatunk elő dekorátort. Itt nem függvényt, hanem egy teljes osztályt dekorálunk. Ez a kód pont ugyanazt a mintát követi, mint a függvénydekorátoraink korábban, csak itt ``func`` helyett ``cls`` van, jelezve, hogy nem függvényt szeretnénk dekorálni, hanem Class-t. (Mondjuk mivel konktér tipusmegkötés nincs a kódban, nagyon sokat azért nem számít. )\n",
    "\n",
    "Annyi a trükk, amit szintén használtunk már korábban, hogy egy függvényattribútumba eltároljuk az első létrejött példányt és a további hívások esetén ugyanazt adjuk vissza.\n",
    "\n",
    "A kimenetben látható, hogy a két legyártott példány azonosítóját lekérdezve ugyanazt kapjuk. Valamint, mikor az ``is`` operátorral összehasonlítjuk őket, akkor egyezőnek találtatnak."
   ]
  },
  {
   "cell_type": "code",
   "execution_count": 24,
   "metadata": {},
   "outputs": [
    {
     "name": "stdout",
     "output_type": "stream",
     "text": [
      "2393438035056\n",
      "2393438035056\n",
      "True\n"
     ]
    }
   ],
   "source": [
    "import functools \n",
    "\n",
    "def singleton(cls):\n",
    "    \"\"\"Biztosítja, hogy egy osztályból egyetlen példány lézezzen max.\"\"\"\n",
    "    @functools.wraps(cls)\n",
    "    def wrapper_singleton(*args, **kwargs):\n",
    "        if not wrapper_singleton.instance:                     # ha az attribútumot még nem állítottuk be\n",
    "            wrapper_singleton.instance = cls(*args, **kwargs)  # akkor létrehozzuk az első példányt\n",
    "        return wrapper_singleton.instance                      # és vissza is adjuk. \n",
    "    wrapper_singleton.instance = None         # itt definiálunk függvény attribútumot\n",
    "    return wrapper_singleton\n",
    "\n",
    "# a létező legegyszerűbb Class\n",
    "@singleton\n",
    "class AzEgyetlen:\n",
    "    pass\n",
    "\n",
    "# példányosítjuk kétszer\n",
    "elso_peldany = AzEgyetlen()\n",
    "masodik_peldany = AzEgyetlen()\n",
    "\n",
    "# és lecsekkoljuk, hogy különböznek-e az aonosítóik\n",
    "print(id(elso_peldany))\n",
    "print(id(masodik_peldany))\n",
    "\n",
    "# valamint\n",
    "print( elso_peldany is masodik_peldany)\n",
    "\n",
    "# és látjuk, hogy a kettő ugyanaz\n"
   ]
  },
  {
   "attachments": {},
   "cell_type": "markdown",
   "metadata": {},
   "source": [
    "## Adatok cache-elése dekorátorban\n",
    "\n",
    "Itt ugyanazt a mintát használjuk, mint korábban a ``count_calls`` dekorátornál, ahol egy függvény attribútum segítségével alkottunk állapottartó szerkezetet. Itt most a ``wrapper_cache_retval`` függvényünknek adunk egy ``wrapper_cache_retval.cache`` attribútumot, ami egy dict lesz. A függvényünk hívásakor az összes átadott paraméterből létrehozunk egy kulcsot, ez lesz a ``cache_key``, ezt használjuk a dict-ünkben kulcsként. Ha a kulcs még nem szerepel a dictben, akkor értékként hozzáadjuk az eredeti függvényünk (``func()``) kimenetét. Ha már benne van, akkor simán  csak visszaadjuk a cache-elt értéket. \n",
    "\n",
    "Persze az itt szereplő ``print``-ek a működéshez feleslegesek. Sőt, a korábbi ``count_calls`` dekorátorral helyettesíteni is lehet többé-kevésbé."
   ]
  },
  {
   "cell_type": "code",
   "execution_count": 16,
   "metadata": {},
   "outputs": [
    {
     "name": "stdout",
     "output_type": "stream",
     "text": [
      "Első menet:\n",
      "Új érték tárolása 'fibonacci' függvény számára a követkető paraméterekhez: (1,). Letárolt érték: 1\n",
      "Új érték tárolása 'fibonacci' függvény számára a követkető paraméterekhez: (0,). Letárolt érték: 0\n",
      "Új érték tárolása 'fibonacci' függvény számára a követkető paraméterekhez: (2,). Letárolt érték: 1\n",
      "Érték kiszolgálása cache-ből a 'fibonacci' függvény számára a követkető paraméterekhez: (1,). Letárolt érték: 1\n",
      "Új érték tárolása 'fibonacci' függvény számára a követkető paraméterekhez: (3,). Letárolt érték: 2\n",
      "Érték kiszolgálása cache-ből a 'fibonacci' függvény számára a követkető paraméterekhez: (2,). Letárolt érték: 1\n",
      "Új érték tárolása 'fibonacci' függvény számára a követkető paraméterekhez: (4,). Letárolt érték: 3\n",
      "Érték kiszolgálása cache-ből a 'fibonacci' függvény számára a követkető paraméterekhez: (3,). Letárolt érték: 2\n",
      "Új érték tárolása 'fibonacci' függvény számára a követkető paraméterekhez: (5,). Letárolt érték: 5\n",
      "Érték kiszolgálása cache-ből a 'fibonacci' függvény számára a követkető paraméterekhez: (4,). Letárolt érték: 3\n",
      "Új érték tárolása 'fibonacci' függvény számára a követkető paraméterekhez: (6,). Letárolt érték: 8\n",
      "Érték kiszolgálása cache-ből a 'fibonacci' függvény számára a követkető paraméterekhez: (5,). Letárolt érték: 5\n",
      "Új érték tárolása 'fibonacci' függvény számára a követkető paraméterekhez: (7,). Letárolt érték: 13\n",
      "Érték kiszolgálása cache-ből a 'fibonacci' függvény számára a követkető paraméterekhez: (6,). Letárolt érték: 8\n",
      "Új érték tárolása 'fibonacci' függvény számára a követkető paraméterekhez: (8,). Letárolt érték: 21\n",
      "Érték kiszolgálása cache-ből a 'fibonacci' függvény számára a követkető paraméterekhez: (7,). Letárolt érték: 13\n",
      "Új érték tárolása 'fibonacci' függvény számára a követkető paraméterekhez: (9,). Letárolt érték: 34\n",
      "Érték kiszolgálása cache-ből a 'fibonacci' függvény számára a követkető paraméterekhez: (8,). Letárolt érték: 21\n",
      "Új érték tárolása 'fibonacci' függvény számára a követkető paraméterekhez: (10,). Letárolt érték: 55\n",
      "\n",
      "Második menet:\n",
      "Érték kiszolgálása cache-ből a 'fibonacci' függvény számára a követkető paraméterekhez: (10,). Letárolt érték: 55\n"
     ]
    },
    {
     "data": {
      "text/plain": [
       "55"
      ]
     },
     "execution_count": 16,
     "metadata": {},
     "output_type": "execute_result"
    }
   ],
   "source": [
    "import functools\n",
    "\n",
    "def cache_retval(func):\n",
    "    @functools.wraps(func)\n",
    "    def wrapper_cache_retval(*args, **kwargs):\n",
    "        cache_key =  args + tuple(kwargs.items())\n",
    "        if not cache_key in wrapper_cache_retval.cache:\n",
    "            wrapper_cache_retval.cache[cache_key] = func(*args, **kwargs)\n",
    "            print(f\"Új érték tárolása {func.__name__!r} függvény számára a követkető paraméterekhez: {cache_key!r}. Letárolt érték: {wrapper_cache_retval.cache[cache_key]!r}\")\n",
    "        else:  # ez az ág csak a demonstrááció miatt kell\n",
    "            print(f\"Érték kiszolgálása cache-ből a {func.__name__!r} függvény számára a követkető paraméterekhez: {cache_key!r}. Letárolt érték: {wrapper_cache_retval.cache[cache_key]!r}\")\n",
    "           \n",
    "        return wrapper_cache_retval.cache[cache_key]\n",
    "\n",
    "    wrapper_cache_retval.cache = dict()\n",
    "    return wrapper_cache_retval\n",
    "\n",
    "# dekoráljuk a függvényünket\n",
    "@cache_retval\n",
    "def fibonacci(num):\n",
    "    if num < 2:\n",
    "        return num\n",
    "    return fibonacci(num - 1) + fibonacci(num - 2)\n",
    "\n",
    "#teszteljük\n",
    "print('Első menet:')\n",
    "fibonacci(10)\n",
    "print('\\nMásodik menet:')\n",
    "fibonacci(10)\n",
    "\n"
   ]
  }
 ],
 "metadata": {
  "kernelspec": {
   "display_name": "Python 3",
   "language": "python",
   "name": "python3"
  },
  "language_info": {
   "codemirror_mode": {
    "name": "ipython",
    "version": 3
   },
   "file_extension": ".py",
   "mimetype": "text/x-python",
   "name": "python",
   "nbconvert_exporter": "python",
   "pygments_lexer": "ipython3",
   "version": "3.9.8"
  },
  "orig_nbformat": 4,
  "vscode": {
   "interpreter": {
    "hash": "6d7090a0eba9f58071158077b1b9ec0b4e92cc0aab46ed30065211387267cdcd"
   }
  }
 },
 "nbformat": 4,
 "nbformat_minor": 2
}
